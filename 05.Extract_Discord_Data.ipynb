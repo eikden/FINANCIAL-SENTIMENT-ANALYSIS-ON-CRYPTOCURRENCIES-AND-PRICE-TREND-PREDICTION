{
 "cells": [
  {
   "cell_type": "markdown",
   "id": "28fdafa6",
   "metadata": {},
   "source": [
    "# Export Discord Data\n",
    "Use discord chat export to export the target discussion into cvs format. Following link is the tools and details steps to export data\n",
    "https://github.com/Tyrrrz/DiscordChatExporter\n",
    "\n",
    "In this chapter, we mainly export only announcement and general discussion from the target group. "
   ]
  },
  {
   "cell_type": "markdown",
   "id": "2ccc83de",
   "metadata": {},
   "source": [
    "# Explore discord data"
   ]
  },
  {
   "cell_type": "code",
   "execution_count": 2,
   "id": "ded0954e",
   "metadata": {},
   "outputs": [],
   "source": [
    "import json\n",
    "import pandas as pd\n",
    "import numpy as np\n",
    "import datetime as dt\n",
    "import warnings\n",
    "import matplotlib.pyplot as plt\n",
    "import pandas_datareader as web\n",
    "warnings.filterwarnings(\"ignore\")"
   ]
  },
  {
   "cell_type": "code",
   "execution_count": 3,
   "id": "5db71b31",
   "metadata": {},
   "outputs": [],
   "source": [
    "#identify specific date to extract\n",
    "start = dt.datetime(2021,10,1)\n",
    "end = dt.datetime(2022,6,30)\n",
    "\n",
    "#2021-10-01 to 2022-06-30"
   ]
  },
  {
   "cell_type": "code",
   "execution_count": 4,
   "id": "7d902021",
   "metadata": {},
   "outputs": [],
   "source": [
    "#extract data from yahoo finance\n",
    "MANA = web.DataReader('MANA-USD','yahoo', start, end)\n",
    "ENJ = web.DataReader('ENJ-USD','yahoo', start, end)\n",
    "RACA = web.DataReader('RACA-USD','yahoo', start, end)\n",
    "BTC = web.DataReader('BTC-USD','yahoo', start, end)\n",
    "ETH = web.DataReader('ETH-USD','yahoo', start, end)\n",
    "BNB = web.DataReader('BNB-USD','yahoo', start, end)"
   ]
  },
  {
   "cell_type": "code",
   "execution_count": 5,
   "id": "467bd898",
   "metadata": {},
   "outputs": [],
   "source": [
    "MANA = MANA.reset_index()\n",
    "ENJ = ENJ.reset_index()\n",
    "RACA = RACA.reset_index()\n",
    "BTC = BTC.reset_index()\n",
    "ETH = ETH.reset_index()\n",
    "BNB = BNB.reset_index()"
   ]
  },
  {
   "cell_type": "code",
   "execution_count": 6,
   "id": "ecbeba76",
   "metadata": {},
   "outputs": [],
   "source": [
    "def match_date(start, end, data):\n",
    "    data.Date = pd.to_datetime(data.Date)\n",
    "    data = data[(data['Date'] >= start) & (data['Date'] <= end)]\n",
    "    data[\"Date\"] = data[\"Date\"].apply(lambda x: pd.to_datetime(x, unit=\"ns\", utc=True).floor('D').date())\n",
    "    #data.columns = data.columns.str.replace('Date', 'date')\n",
    "    return data"
   ]
  },
  {
   "cell_type": "code",
   "execution_count": 7,
   "id": "d04edbe5",
   "metadata": {},
   "outputs": [],
   "source": [
    "MANA = match_date(start, end, MANA)\n",
    "ENJ = match_date(start, end, ENJ)\n",
    "RACA = match_date(start, end, RACA)\n",
    "BTC = match_date(start, end, BTC)\n",
    "ETH = match_date(start, end, ETH)\n",
    "BNB = match_date(start, end, BNB)\n",
    "\n",
    "#add pct change column\n",
    "ClosingPrice = MANA[['Adj Close']]\n",
    "MANA['pct_change'] = ClosingPrice.pct_change()*100\n",
    "#add pct change column\n",
    "ClosingPrice = ENJ[['Adj Close']]\n",
    "ENJ['pct_change'] = ClosingPrice.pct_change()*100\n",
    "#add pct change column\n",
    "ClosingPrice = RACA[['Adj Close']]\n",
    "RACA['pct_change'] = ClosingPrice.pct_change()*100\n",
    "#add pct change column\n",
    "ClosingPrice = BTC[['Adj Close']]\n",
    "BTC['pct_change'] = ClosingPrice.pct_change()*100\n",
    "#add pct change column\n",
    "ClosingPrice = ETH[['Adj Close']]\n",
    "ETH['pct_change'] = ClosingPrice.pct_change()*100\n",
    "#add pct change column\n",
    "ClosingPrice = BNB[['Adj Close']]\n",
    "BNB['pct_change'] = ClosingPrice.pct_change()*100\n",
    "\n",
    "MANA = MANA.set_index('Date')\n",
    "ENJ = ENJ.set_index('Date')\n",
    "RACA = RACA.set_index('Date')\n",
    "BTC = BTC.set_index('Date')\n",
    "ETH = ETH.set_index('Date')\n",
    "BNB = BNB.set_index('Date')"
   ]
  },
  {
   "cell_type": "code",
   "execution_count": 8,
   "id": "a0c72fa1",
   "metadata": {},
   "outputs": [],
   "source": [
    "import matplotlib.ticker as ticker\n",
    "\n",
    "def plot_count_content_by_week(data, title):\n",
    "\n",
    "    # create a Series, grouping by week\n",
    "    weekly_series = data.groupby(pd.Grouper(key='Date', freq='W-MON'))['Content'].count()\n",
    "    # and plot it\n",
    "    ax =weekly_series.plot(kind='bar')\n",
    "\n",
    "    # Set title and labels for axes\n",
    "    ax.set(xlabel=\"Date\",\n",
    "       ylabel=\"Count transactions\",\n",
    "       title=\"{0} frequency transactions by week\".format(title))\n",
    "    \n",
    "    # Make most of the ticklabels empty so the labels don't get too crowded\n",
    "    ticklabels = ['']*len(weekly_series.index)\n",
    "    # Every 4th ticklable shows the month and day\n",
    "    ticklabels[::4] = [item.strftime('%b %d') for item in weekly_series.index[::4]]\n",
    "    # Every 12th ticklabel includes the year\n",
    "    ticklabels[::12] = [item.strftime('%b %d\\n%Y') for item in weekly_series.index[::12]]\n",
    "    ax.xaxis.set_major_formatter(ticker.FixedFormatter(ticklabels))\n",
    "    \n",
    "    plt.gcf().autofmt_xdate()\n",
    "\n",
    "    plt.show()\n",
    "    "
   ]
  },
  {
   "cell_type": "code",
   "execution_count": 9,
   "id": "e1657015",
   "metadata": {},
   "outputs": [],
   "source": [
    "MANA_Discussion = pd.read_csv(r\"Data/discord/Decentraland_General_2021-10-01_2022-06-30.csv\", sep=\",\")\n",
    "\n",
    "MANA_Discussion[\"Date\"] = MANA_Discussion[\"Date\"].apply(lambda x: pd.to_datetime(x, unit=\"ns\", utc=True).floor('D').date())\n",
    "MANA_Discussion[\"Date\"] = MANA_Discussion[\"Date\"].apply(lambda x: pd.to_datetime(x, format='%Y-%m-%d'))"
   ]
  },
  {
   "cell_type": "code",
   "execution_count": 10,
   "id": "c353b438",
   "metadata": {},
   "outputs": [],
   "source": [
    "MANA_Discussion_By_Daily_Count=MANA_Discussion.groupby(pd.Grouper(key='Date', freq='D'))['Content'].count()"
   ]
  },
  {
   "cell_type": "code",
   "execution_count": 11,
   "id": "7fa37162",
   "metadata": {},
   "outputs": [],
   "source": [
    "#join data\n",
    "MANA_Discussion_Merge = MANA.join(MANA_Discussion_By_Daily_Count)\n",
    "MANA_Discussion_Merge = MANA_Discussion_Merge.fillna(0)\n",
    "MANA_Discussion_Filter = MANA_Discussion_Merge[MANA_Discussion_Merge[\"Content\"]>0].reset_index()"
   ]
  },
  {
   "cell_type": "code",
   "execution_count": 12,
   "id": "0e87cdf1",
   "metadata": {},
   "outputs": [
    {
     "data": {
      "image/png": "[encoded data removed]",
      "text/plain": [
       "<Figure size 432x288 with 1 Axes>"
      ]
     },
     "metadata": {
      "needs_background": "light"
     },
     "output_type": "display_data"
    }
   ],
   "source": [
    "plot_count_content_by_week(MANA_Discussion, \"Mana discussion\")\n",
    "#plot_count_content_by_week(MANA_Discussion, \"Mana discussion\")"
   ]
  },
  {
   "cell_type": "code",
   "execution_count": 13,
   "id": "3c26ed7a",
   "metadata": {},
   "outputs": [
    {
     "data": {
      "text/html": [
       "<div>\n",
       "<style scoped>\n",
       "    .dataframe tbody tr th:only-of-type {\n",
       "        vertical-align: middle;\n",
       "    }\n",
       "\n",
       "    .dataframe tbody tr th {\n",
       "        vertical-align: top;\n",
       "    }\n",
       "\n",
       "    .dataframe thead th {\n",
       "        text-align: right;\n",
       "    }\n",
       "</style>\n",
       "<table border=\"1\" class=\"dataframe\">\n",
       "  <thead>\n",
       "    <tr style=\"text-align: right;\">\n",
       "      <th></th>\n",
       "      <th>Content</th>\n",
       "    </tr>\n",
       "  </thead>\n",
       "  <tbody>\n",
       "    <tr>\n",
       "      <th>count</th>\n",
       "      <td>97287</td>\n",
       "    </tr>\n",
       "    <tr>\n",
       "      <th>unique</th>\n",
       "      <td>85873</td>\n",
       "    </tr>\n",
       "    <tr>\n",
       "      <th>top</th>\n",
       "      <td>hi</td>\n",
       "    </tr>\n",
       "    <tr>\n",
       "      <th>freq</th>\n",
       "      <td>313</td>\n",
       "    </tr>\n",
       "  </tbody>\n",
       "</table>\n",
       "</div>"
      ],
      "text/plain": [
       "       Content\n",
       "count    97287\n",
       "unique   85873\n",
       "top         hi\n",
       "freq       313"
      ]
     },
     "execution_count": 13,
     "metadata": {},
     "output_type": "execute_result"
    }
   ],
   "source": [
    "MANA_Discussion[[\"Content\"]].describe()"
   ]
  },
  {
   "cell_type": "code",
   "execution_count": 14,
   "id": "bb25a0f4",
   "metadata": {},
   "outputs": [],
   "source": [
    "ENJ_Discussion = pd.read_csv(r\"Data/discord/Enjin_General_2021-10-01_2022-06-30.csv\", sep=\",\")\n",
    "\n",
    "ENJ_Discussion[\"Date\"] = ENJ_Discussion[\"Date\"].apply(lambda x: pd.to_datetime(x, unit=\"ns\", utc=True).floor('D').date())\n",
    "ENJ_Discussion[\"Date\"] = ENJ_Discussion[\"Date\"].apply(lambda x: pd.to_datetime(x, format='%Y-%m-%d'))"
   ]
  },
  {
   "cell_type": "code",
   "execution_count": 15,
   "id": "c293b098",
   "metadata": {},
   "outputs": [
    {
     "data": {
      "image/png": "[encoded data removed]",
      "text/plain": [
       "<Figure size 432x288 with 1 Axes>"
      ]
     },
     "metadata": {
      "needs_background": "light"
     },
     "output_type": "display_data"
    }
   ],
   "source": [
    "plot_count_content_by_week(ENJ_Discussion, \"ENJ discussion\")"
   ]
  },
  {
   "cell_type": "code",
   "execution_count": 16,
   "id": "d8a75391",
   "metadata": {},
   "outputs": [
    {
     "data": {
      "text/html": [
       "<div>\n",
       "<style scoped>\n",
       "    .dataframe tbody tr th:only-of-type {\n",
       "        vertical-align: middle;\n",
       "    }\n",
       "\n",
       "    .dataframe tbody tr th {\n",
       "        vertical-align: top;\n",
       "    }\n",
       "\n",
       "    .dataframe thead th {\n",
       "        text-align: right;\n",
       "    }\n",
       "</style>\n",
       "<table border=\"1\" class=\"dataframe\">\n",
       "  <thead>\n",
       "    <tr style=\"text-align: right;\">\n",
       "      <th></th>\n",
       "      <th>Content</th>\n",
       "    </tr>\n",
       "  </thead>\n",
       "  <tbody>\n",
       "    <tr>\n",
       "      <th>count</th>\n",
       "      <td>5508</td>\n",
       "    </tr>\n",
       "    <tr>\n",
       "      <th>unique</th>\n",
       "      <td>4761</td>\n",
       "    </tr>\n",
       "    <tr>\n",
       "      <th>top</th>\n",
       "      <td>Hi</td>\n",
       "    </tr>\n",
       "    <tr>\n",
       "      <th>freq</th>\n",
       "      <td>212</td>\n",
       "    </tr>\n",
       "  </tbody>\n",
       "</table>\n",
       "</div>"
      ],
      "text/plain": [
       "       Content\n",
       "count     5508\n",
       "unique    4761\n",
       "top         Hi\n",
       "freq       212"
      ]
     },
     "execution_count": 16,
     "metadata": {},
     "output_type": "execute_result"
    }
   ],
   "source": [
    "ENJ_Discussion[[\"Content\"]].describe()"
   ]
  },
  {
   "cell_type": "code",
   "execution_count": 17,
   "id": "c7213a33",
   "metadata": {},
   "outputs": [],
   "source": [
    "RACA_Discussion = pd.read_csv(r\"Data/discord/RadioCaca_General2021-10-01_2022-06-30.csv\", sep=\",\")\n",
    "\n",
    "RACA_Discussion[\"Date\"] = RACA_Discussion[\"Date\"].apply(lambda x: pd.to_datetime(x, unit=\"ns\", utc=True).floor('D').date())\n",
    "RACA_Discussion[\"Date\"] = RACA_Discussion[\"Date\"].apply(lambda x: pd.to_datetime(x, format='%Y-%m-%d'))"
   ]
  },
  {
   "cell_type": "code",
   "execution_count": 18,
   "id": "6f15c60f",
   "metadata": {},
   "outputs": [
    {
     "data": {
      "image/png": "[encoded data removed]",
      "text/plain": [
       "<Figure size 432x288 with 1 Axes>"
      ]
     },
     "metadata": {
      "needs_background": "light"
     },
     "output_type": "display_data"
    }
   ],
   "source": [
    "plot_count_content_by_week(RACA_Discussion, \"RACA discussion\")"
   ]
  },
  {
   "cell_type": "code",
   "execution_count": 19,
   "id": "a8586b60",
   "metadata": {},
   "outputs": [
    {
     "data": {
      "text/html": [
       "<div>\n",
       "<style scoped>\n",
       "    .dataframe tbody tr th:only-of-type {\n",
       "        vertical-align: middle;\n",
       "    }\n",
       "\n",
       "    .dataframe tbody tr th {\n",
       "        vertical-align: top;\n",
       "    }\n",
       "\n",
       "    .dataframe thead th {\n",
       "        text-align: right;\n",
       "    }\n",
       "</style>\n",
       "<table border=\"1\" class=\"dataframe\">\n",
       "  <thead>\n",
       "    <tr style=\"text-align: right;\">\n",
       "      <th></th>\n",
       "      <th>Content</th>\n",
       "    </tr>\n",
       "  </thead>\n",
       "  <tbody>\n",
       "    <tr>\n",
       "      <th>count</th>\n",
       "      <td>31052</td>\n",
       "    </tr>\n",
       "    <tr>\n",
       "      <th>unique</th>\n",
       "      <td>27924</td>\n",
       "    </tr>\n",
       "    <tr>\n",
       "      <th>top</th>\n",
       "      <td>hi</td>\n",
       "    </tr>\n",
       "    <tr>\n",
       "      <th>freq</th>\n",
       "      <td>309</td>\n",
       "    </tr>\n",
       "  </tbody>\n",
       "</table>\n",
       "</div>"
      ],
      "text/plain": [
       "       Content\n",
       "count    31052\n",
       "unique   27924\n",
       "top         hi\n",
       "freq       309"
      ]
     },
     "execution_count": 19,
     "metadata": {},
     "output_type": "execute_result"
    }
   ],
   "source": [
    "RACA_Discussion[[\"Content\"]].describe()"
   ]
  },
  {
   "cell_type": "code",
   "execution_count": 26,
   "id": "bb4b0d9c-9e93-41f4-9da9-66b052f7e9cd",
   "metadata": {},
   "outputs": [],
   "source": [
    "BTC_Discussion = pd.read_csv(r\"Data/discord/Bitcoin_General_2021-10-01_2022-06-30.csv\", sep=\",\")\n",
    "\n",
    "BTC_Discussion[\"Date\"] = BTC_Discussion[\"Date\"].apply(lambda x: pd.to_datetime(x, unit=\"ns\", utc=True).floor('D').date())\n",
    "BTC_Discussion[\"Date\"] = BTC_Discussion[\"Date\"].apply(lambda x: pd.to_datetime(x, format='%Y-%m-%d'))"
   ]
  },
  {
   "cell_type": "code",
   "execution_count": 27,
   "id": "7cccbda8-c14d-4332-9292-7009430d7877",
   "metadata": {},
   "outputs": [
    {
     "data": {
      "image/png": "[encoded data removed]",
      "text/plain": [
       "<Figure size 432x288 with 1 Axes>"
      ]
     },
     "metadata": {
      "needs_background": "light"
     },
     "output_type": "display_data"
    }
   ],
   "source": [
    "plot_count_content_by_week(BTC_Discussion, \"BTC discussion\")"
   ]
  },
  {
   "cell_type": "code",
   "execution_count": 28,
   "id": "e53ae412-0521-41af-b7d0-5c1fd533ca95",
   "metadata": {},
   "outputs": [
    {
     "data": {
      "text/html": [
       "<div>\n",
       "<style scoped>\n",
       "    .dataframe tbody tr th:only-of-type {\n",
       "        vertical-align: middle;\n",
       "    }\n",
       "\n",
       "    .dataframe tbody tr th {\n",
       "        vertical-align: top;\n",
       "    }\n",
       "\n",
       "    .dataframe thead th {\n",
       "        text-align: right;\n",
       "    }\n",
       "</style>\n",
       "<table border=\"1\" class=\"dataframe\">\n",
       "  <thead>\n",
       "    <tr style=\"text-align: right;\">\n",
       "      <th></th>\n",
       "      <th>Content</th>\n",
       "    </tr>\n",
       "  </thead>\n",
       "  <tbody>\n",
       "    <tr>\n",
       "      <th>count</th>\n",
       "      <td>22151</td>\n",
       "    </tr>\n",
       "    <tr>\n",
       "      <th>unique</th>\n",
       "      <td>18050</td>\n",
       "    </tr>\n",
       "    <tr>\n",
       "      <th>top</th>\n",
       "      <td>🤣</td>\n",
       "    </tr>\n",
       "    <tr>\n",
       "      <th>freq</th>\n",
       "      <td>318</td>\n",
       "    </tr>\n",
       "  </tbody>\n",
       "</table>\n",
       "</div>"
      ],
      "text/plain": [
       "       Content\n",
       "count    22151\n",
       "unique   18050\n",
       "top          🤣\n",
       "freq       318"
      ]
     },
     "execution_count": 28,
     "metadata": {},
     "output_type": "execute_result"
    }
   ],
   "source": [
    "BTC_Discussion[[\"Content\"]].describe()"
   ]
  },
  {
   "cell_type": "code",
   "execution_count": 20,
   "id": "1e3f60be",
   "metadata": {},
   "outputs": [],
   "source": [
    "ETH_Discussion = pd.read_csv(r\"Data/discord/Ethereum_General_2021-10-01_2022-06-30.csv\", sep=\",\")\n",
    "\n",
    "ETH_Discussion[\"Date\"] = ETH_Discussion[\"Date\"].apply(lambda x: pd.to_datetime(x, unit=\"ns\", utc=True).floor('D').date())\n",
    "ETH_Discussion[\"Date\"] = ETH_Discussion[\"Date\"].apply(lambda x: pd.to_datetime(x, format='%Y-%m-%d'))"
   ]
  },
  {
   "cell_type": "code",
   "execution_count": 21,
   "id": "e2cfcc1e",
   "metadata": {},
   "outputs": [
    {
     "data": {
      "image/png": "[encoded data removed]",
      "text/plain": [
       "<Figure size 432x288 with 1 Axes>"
      ]
     },
     "metadata": {
      "needs_background": "light"
     },
     "output_type": "display_data"
    }
   ],
   "source": [
    "plot_count_content_by_week(ETH_Discussion, \"ETH discussion\")"
   ]
  },
  {
   "cell_type": "code",
   "execution_count": 22,
   "id": "14d45bdc",
   "metadata": {},
   "outputs": [
    {
     "data": {
      "text/html": [
       "<div>\n",
       "<style scoped>\n",
       "    .dataframe tbody tr th:only-of-type {\n",
       "        vertical-align: middle;\n",
       "    }\n",
       "\n",
       "    .dataframe tbody tr th {\n",
       "        vertical-align: top;\n",
       "    }\n",
       "\n",
       "    .dataframe thead th {\n",
       "        text-align: right;\n",
       "    }\n",
       "</style>\n",
       "<table border=\"1\" class=\"dataframe\">\n",
       "  <thead>\n",
       "    <tr style=\"text-align: right;\">\n",
       "      <th></th>\n",
       "      <th>Content</th>\n",
       "    </tr>\n",
       "  </thead>\n",
       "  <tbody>\n",
       "    <tr>\n",
       "      <th>count</th>\n",
       "      <td>12623</td>\n",
       "    </tr>\n",
       "    <tr>\n",
       "      <th>unique</th>\n",
       "      <td>11978</td>\n",
       "    </tr>\n",
       "    <tr>\n",
       "      <th>top</th>\n",
       "      <td>Hi</td>\n",
       "    </tr>\n",
       "    <tr>\n",
       "      <th>freq</th>\n",
       "      <td>40</td>\n",
       "    </tr>\n",
       "  </tbody>\n",
       "</table>\n",
       "</div>"
      ],
      "text/plain": [
       "       Content\n",
       "count    12623\n",
       "unique   11978\n",
       "top         Hi\n",
       "freq        40"
      ]
     },
     "execution_count": 22,
     "metadata": {},
     "output_type": "execute_result"
    }
   ],
   "source": [
    "ETH_Discussion[[\"Content\"]].describe()"
   ]
  },
  {
   "cell_type": "code",
   "execution_count": 23,
   "id": "6077f004",
   "metadata": {},
   "outputs": [],
   "source": [
    "BNB_Discussion = pd.read_csv(r\"Data/discord/Binance_General_2021-10-01_2022-06-30.csv\", sep=\",\")\n",
    "\n",
    "BNB_Discussion[\"Date\"] = BNB_Discussion[\"Date\"].apply(lambda x: pd.to_datetime(x, unit=\"ns\", utc=True).floor('D').date())\n",
    "BNB_Discussion[\"Date\"] = BNB_Discussion[\"Date\"].apply(lambda x: pd.to_datetime(x, format='%Y-%m-%d'))"
   ]
  },
  {
   "cell_type": "code",
   "execution_count": 24,
   "id": "076d9455",
   "metadata": {},
   "outputs": [
    {
     "data": {
      "image/png": "[encoded data removed]",
      "text/plain": [
       "<Figure size 432x288 with 1 Axes>"
      ]
     },
     "metadata": {
      "needs_background": "light"
     },
     "output_type": "display_data"
    }
   ],
   "source": [
    "plot_count_content_by_week(BNB_Discussion, \"BNB discussion\")"
   ]
  },
  {
   "cell_type": "code",
   "execution_count": 25,
   "id": "b46525f7",
   "metadata": {},
   "outputs": [
    {
     "data": {
      "text/html": [
       "<div>\n",
       "<style scoped>\n",
       "    .dataframe tbody tr th:only-of-type {\n",
       "        vertical-align: middle;\n",
       "    }\n",
       "\n",
       "    .dataframe tbody tr th {\n",
       "        vertical-align: top;\n",
       "    }\n",
       "\n",
       "    .dataframe thead th {\n",
       "        text-align: right;\n",
       "    }\n",
       "</style>\n",
       "<table border=\"1\" class=\"dataframe\">\n",
       "  <thead>\n",
       "    <tr style=\"text-align: right;\">\n",
       "      <th></th>\n",
       "      <th>Content</th>\n",
       "    </tr>\n",
       "  </thead>\n",
       "  <tbody>\n",
       "    <tr>\n",
       "      <th>count</th>\n",
       "      <td>46104</td>\n",
       "    </tr>\n",
       "    <tr>\n",
       "      <th>unique</th>\n",
       "      <td>35833</td>\n",
       "    </tr>\n",
       "    <tr>\n",
       "      <th>top</th>\n",
       "      <td>Hi</td>\n",
       "    </tr>\n",
       "    <tr>\n",
       "      <th>freq</th>\n",
       "      <td>1050</td>\n",
       "    </tr>\n",
       "  </tbody>\n",
       "</table>\n",
       "</div>"
      ],
      "text/plain": [
       "       Content\n",
       "count    46104\n",
       "unique   35833\n",
       "top         Hi\n",
       "freq      1050"
      ]
     },
     "execution_count": 25,
     "metadata": {},
     "output_type": "execute_result"
    }
   ],
   "source": [
    "BNB_Discussion[[\"Content\"]].describe()"
   ]
  },
  {
   "cell_type": "code",
   "execution_count": null,
   "id": "6831eef2-86b0-4dab-90bf-523d896dba2d",
   "metadata": {},
   "outputs": [],
   "source": []
  }
 ],
 "metadata": {
  "kernelspec": {
   "display_name": "Python 3 (ipykernel)",
   "language": "python",
   "name": "python3"
  },
  "language_info": {
   "codemirror_mode": {
    "name": "ipython",
    "version": 3
   },
   "file_extension": ".py",
   "mimetype": "text/x-python",
   "name": "python",
   "nbconvert_exporter": "python",
   "pygments_lexer": "ipython3",
   "version": "3.8.13"
  }
 },
 "nbformat": 4,
 "nbformat_minor": 5
}

{
 "cells": [
  {
   "cell_type": "code",
   "execution_count": 2,
   "id": "0c8733d0",
   "metadata": {},
   "outputs": [
    {
     "name": "stdout",
     "output_type": "stream",
     "text": [
      "(32632, 2)\n",
      "(32632,)\n",
      "(4079, 2)\n",
      "(4079,)\n",
      "(4080, 2)\n",
      "(4080,)\n"
     ]
    },
    {
     "data": {
      "text/plain": [
       "(None, None)"
      ]
     },
     "execution_count": 2,
     "metadata": {},
     "output_type": "execute_result"
    }
   ],
   "source": [
    "import pandas as pd\n",
    "\n",
    "df = pd.read_csv('Models/data/sentiment_data/raw.csv', low_memory=False)\n",
    "\n",
    "from sklearn.model_selection import train_test_split\n",
    "\n",
    "# Let's say we want to split the data in 80:10:10 for train:valid:test dataset\n",
    "train_size=0.8\n",
    "\n",
    "X = df.drop(columns = ['label']).copy()\n",
    "y = df['label']\n",
    "\n",
    "# In the first step we will split the data in training and remaining dataset\n",
    "X_train, X_rem, y_train, y_rem = train_test_split(X,y, train_size=0.8)\n",
    "\n",
    "# Now since we want the valid and test size to be equal (10% each of overall data). \n",
    "# we have to define valid_size=0.5 (that is 50% of remaining data)\n",
    "test_size = 0.5\n",
    "X_valid, X_test, y_valid, y_test = train_test_split(X_rem,y_rem, test_size=0.5)\n",
    "\n",
    "print(X_train.shape), print(y_train.shape)\n",
    "print(X_valid.shape), print(y_valid.shape)\n",
    "print(X_test.shape), print(y_test.shape)"
   ]
  },
  {
   "cell_type": "code",
   "execution_count": 10,
   "id": "67ac746e",
   "metadata": {},
   "outputs": [
    {
     "data": {
      "text/plain": [
       "40069     neutral\n",
       "37504     neutral\n",
       "40479    positive\n",
       "21781    positive\n",
       "4348     positive\n",
       "           ...   \n",
       "38033     neutral\n",
       "10820    negative\n",
       "23649     neutral\n",
       "31469     neutral\n",
       "39708    negative\n",
       "Name: label, Length: 32632, dtype: object"
      ]
     },
     "execution_count": 10,
     "metadata": {},
     "output_type": "execute_result"
    }
   ],
   "source": [
    "y_train"
   ]
  },
  {
   "cell_type": "code",
   "execution_count": 9,
   "id": "262b0191",
   "metadata": {},
   "outputs": [
    {
     "data": {
      "text/html": [
       "<div>\n",
       "<style scoped>\n",
       "    .dataframe tbody tr th:only-of-type {\n",
       "        vertical-align: middle;\n",
       "    }\n",
       "\n",
       "    .dataframe tbody tr th {\n",
       "        vertical-align: top;\n",
       "    }\n",
       "\n",
       "    .dataframe thead th {\n",
       "        text-align: right;\n",
       "    }\n",
       "</style>\n",
       "<table border=\"1\" class=\"dataframe\">\n",
       "  <thead>\n",
       "    <tr style=\"text-align: right;\">\n",
       "      <th></th>\n",
       "      <th>Unnamed: 0</th>\n",
       "      <th>text</th>\n",
       "    </tr>\n",
       "  </thead>\n",
       "  <tbody>\n",
       "    <tr>\n",
       "      <th>40069</th>\n",
       "      <td>40069</td>\n",
       "      <td>x working way top mentioned twitch last hours ...</td>\n",
       "    </tr>\n",
       "    <tr>\n",
       "      <th>37504</th>\n",
       "      <td>37504</td>\n",
       "      <td>x stop loss triggered back soon</td>\n",
       "    </tr>\n",
       "    <tr>\n",
       "      <th>40479</th>\n",
       "      <td>40479</td>\n",
       "      <td>x better portfolio loose money</td>\n",
       "    </tr>\n",
       "    <tr>\n",
       "      <th>21781</th>\n",
       "      <td>21781</td>\n",
       "      <td>x</td>\n",
       "    </tr>\n",
       "    <tr>\n",
       "      <th>4348</th>\n",
       "      <td>4348</td>\n",
       "      <td>x light work pushes january blow past</td>\n",
       "    </tr>\n",
       "    <tr>\n",
       "      <th>...</th>\n",
       "      <td>...</td>\n",
       "      <td>...</td>\n",
       "    </tr>\n",
       "    <tr>\n",
       "      <th>38033</th>\n",
       "      <td>38033</td>\n",
       "      <td>x x x wen depeg complete collapse</td>\n",
       "    </tr>\n",
       "    <tr>\n",
       "      <th>10820</th>\n",
       "      <td>10820</td>\n",
       "      <td>x shorts cash retail holding coins wondering h...</td>\n",
       "    </tr>\n",
       "    <tr>\n",
       "      <th>23649</th>\n",
       "      <td>23649</td>\n",
       "      <td>x new article identifying full impact matic ro...</td>\n",
       "    </tr>\n",
       "    <tr>\n",
       "      <th>31469</th>\n",
       "      <td>31469</td>\n",
       "      <td>x</td>\n",
       "    </tr>\n",
       "    <tr>\n",
       "      <th>39708</th>\n",
       "      <td>39708</td>\n",
       "      <td>x flipped scam coin going nowhere</td>\n",
       "    </tr>\n",
       "  </tbody>\n",
       "</table>\n",
       "<p>32632 rows × 2 columns</p>\n",
       "</div>"
      ],
      "text/plain": [
       "       Unnamed: 0                                               text\n",
       "40069       40069  x working way top mentioned twitch last hours ...\n",
       "37504       37504                    x stop loss triggered back soon\n",
       "40479       40479                     x better portfolio loose money\n",
       "21781       21781                                                  x\n",
       "4348         4348              x light work pushes january blow past\n",
       "...           ...                                                ...\n",
       "38033       38033                  x x x wen depeg complete collapse\n",
       "10820       10820  x shorts cash retail holding coins wondering h...\n",
       "23649       23649  x new article identifying full impact matic ro...\n",
       "31469       31469                                                  x\n",
       "39708       39708                  x flipped scam coin going nowhere\n",
       "\n",
       "[32632 rows x 2 columns]"
      ]
     },
     "execution_count": 9,
     "metadata": {},
     "output_type": "execute_result"
    }
   ],
   "source": [
    "X_train"
   ]
  },
  {
   "cell_type": "code",
   "execution_count": 14,
   "id": "803db69d",
   "metadata": {},
   "outputs": [],
   "source": [
    "train_dataset = pd.concat([X_train,y_train], axis=1)\n",
    "test_dataset = pd.concat([X_test,y_test], axis=1)\n",
    "val_dataset = pd.concat([X_valid,y_valid], axis=1)"
   ]
  },
  {
   "cell_type": "code",
   "execution_count": 15,
   "id": "73c2497c",
   "metadata": {},
   "outputs": [],
   "source": [
    "train_dataset.to_csv(r\"Data/train_stocktwits.csv\", sep=\"\\t\")\n",
    "test_dataset.to_csv(r\"Data/test_stocktwits.csv\", sep=\"\\t\")   \n",
    "val_dataset.to_csv(r\"Data/val_stocktwits.csv\", sep=\"\\t\")   "
   ]
  },
  {
   "cell_type": "code",
   "execution_count": null,
   "id": "9fa6da51",
   "metadata": {},
   "outputs": [],
   "source": []
  }
 ],
 "metadata": {
  "kernelspec": {
   "display_name": "Python 3 (ipykernel)",
   "language": "python",
   "name": "python3"
  },
  "language_info": {
   "codemirror_mode": {
    "name": "ipython",
    "version": 3
   },
   "file_extension": ".py",
   "mimetype": "text/x-python",
   "name": "python",
   "nbconvert_exporter": "python",
   "pygments_lexer": "ipython3",
   "version": "3.9.12"
  }
 },
 "nbformat": 4,
 "nbformat_minor": 5
}
